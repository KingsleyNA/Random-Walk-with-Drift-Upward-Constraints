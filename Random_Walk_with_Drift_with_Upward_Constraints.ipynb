{
 "cells": [
  {
   "cell_type": "markdown",
   "metadata": {},
   "source": [
    "## RANDOM WALK WITH DRIFT - SPECIAL CONSTRAINTS\n",
    ">#### See Publication: \n",
    "\n",
    "> Kingsley N A\n",
    "\n",
    "> 26th April, 2020"
   ]
  },
  {
   "cell_type": "markdown",
   "metadata": {},
   "source": [
    "## Libraries ..."
   ]
  },
  {
   "cell_type": "code",
   "execution_count": 29,
   "metadata": {
    "collapsed": true
   },
   "outputs": [],
   "source": [
    "import numpy as np\n",
    "import pandas as pd\n",
    "import random as rand\n",
    "from matplotlib import pyplot"
   ]
  },
  {
   "cell_type": "markdown",
   "metadata": {},
   "source": [
    "## File ..."
   ]
  },
  {
   "cell_type": "code",
   "execution_count": 30,
   "metadata": {},
   "outputs": [],
   "source": [
    "filepath = \"./RK.csv\""
   ]
  },
  {
   "cell_type": "markdown",
   "metadata": {},
   "source": [
    "## Computations to derive Min, Max & Mean Values for Volatility+ ..."
   ]
  },
  {
   "cell_type": "code",
   "execution_count": 31,
   "metadata": {},
   "outputs": [
    {
     "name": "stdout",
     "output_type": "stream",
     "text": [
      "Minimum value of positive volatility:  0.01197745420385147\n",
      "Maximum value of positive volatility::  0.4040065342618864\n",
      "Mean of positive volatility:  0.21818368858867088\n"
     ]
    }
   ],
   "source": [
    "relp_df = pd.read_csv(filepath)\n",
    "data29 = relp_df[:29]\n",
    "data = data29.values.tolist()\n",
    "#print(data)\n",
    "\n",
    "#-------------------------------------------------------------\n",
    "# Hyperparameters\n",
    "#-------------------------------------------------------------\n",
    "\n",
    "startcell = 0\n",
    "workcol = 1\n",
    "gap = 7 # Gap year to predict\n",
    "volat = []\n",
    "volatpol = [] \n",
    "volatneg = [] \n",
    "i = 2\n",
    "j = i + gap\n",
    "num_volat_steps = 21\n",
    "#print(i,j)\n",
    "\n",
    "#-------------------------------------------------------------\n",
    "# Computing Volatility\n",
    "#-------------------------------------------------------------\n",
    "\n",
    "for n in range(1 + num_volat_steps):\n",
    "    \n",
    "    form1 = \"b\" + str(i)\n",
    "    form2 = \"b\" + str(j) \n",
    "    #print(form1,form2)\n",
    "    \n",
    "    form1 = data[startcell][workcol]\n",
    "    form2 = data[startcell + gap][workcol]\n",
    "    #print(form1,form2)\n",
    "    \n",
    "    x = (form2 - form1) / form1\n",
    "    #print(x)\n",
    "    \n",
    "    volat.append(x)\n",
    "    #print(volat)\n",
    "\n",
    "    i += 1 \n",
    "    j += 1\n",
    "    startcell += 1\n",
    "    \n",
    "#-------------------------------------------------------------\n",
    "# Viewing data so far\n",
    "#-------------------------------------------------------------\n",
    "#print(volat)\n",
    "#dataframes\n",
    "#df_volat = pd.DataFrame({'col':volat})\n",
    "#df_volat\n",
    "\n",
    "# Sorting volat values into pos and neg\n",
    "for i in volat:\n",
    "    if i > 0:\n",
    "        volatpol.append(i)\n",
    "    else:\n",
    "        volatneg.append(i)\n",
    "        \n",
    "#-------------------------------------------------------------\n",
    "# Viewing data so far\n",
    "#-------------------------------------------------------------\n",
    "\n",
    "#print(volatpol)\n",
    "#df_volatpol = pd.DataFrame({'col':volatpol})\n",
    "#df_volatpol\n",
    "\n",
    "#print(volatneg)\n",
    "#df_volatneg = pd.DataFrame({'col':volatneg})\n",
    "#df_volatneg\n",
    "\n",
    "\n",
    "#-------------------------------------------------------------\n",
    "# Computing Min, Max, Mean of Volat Pos\n",
    "#-------------------------------------------------------------\n",
    "\n",
    "min_volatpol = min(volatpol)\n",
    "max_volatpol = max(volatpol)\n",
    "mean_volatpol = sum(volatpol)/len(volatpol)\n",
    "\n",
    "print(\"Minimum value of positive volatility: \", min_volatpol)\n",
    "print(\"Maximum value of positive volatility:: \", max_volatpol)\n",
    "print(\"Mean of positive volatility: \", mean_volatpol)"
   ]
  },
  {
   "cell_type": "markdown",
   "metadata": {},
   "source": [
    "## Computation of Targets"
   ]
  },
  {
   "cell_type": "code",
   "execution_count": 32,
   "metadata": {},
   "outputs": [
    {
     "name": "stdout",
     "output_type": "stream",
     "text": [
      "36.619\n",
      "Min target:  37.05760239549084\n",
      "Max target:  51.41331527813602\n",
      "Mean target:  44.608668492428535\n"
     ]
    }
   ],
   "source": [
    "#-------------------------------------------------------------\n",
    "# Targets for Minimal , Maximum, Mean Paths Using Volat Pol\n",
    "#-------------------------------------------------------------\n",
    "b30 = data[28][workcol] # Extracting from 2018 value\n",
    "print(b30)\n",
    "\n",
    "min_target = b30 * (1 + min_volatpol)\n",
    "max_target = b30 * (1 + max_volatpol)\n",
    "mean_target = b30 * (1 + mean_volatpol)\n",
    "\n",
    "print(\"Min target: \", min_target)\n",
    "print(\"Max target: \", max_target)\n",
    "print(\"Mean target: \", mean_target)"
   ]
  },
  {
   "cell_type": "markdown",
   "metadata": {},
   "source": [
    "## Random walk with drift on Minimal Path"
   ]
  },
  {
   "cell_type": "code",
   "execution_count": 33,
   "metadata": {},
   "outputs": [
    {
     "name": "stdout",
     "output_type": "stream",
     "text": [
      "\n",
      "Graphical Illustration of the Predictions for Random Walk on Minimal Path from 2019 to Target(2025)\n"
     ]
    },
    {
     "data": {
      "image/png": "[encoded data removed]",
      "text/plain": [
       "<matplotlib.figure.Figure at 0x23520bd6e48>"
      ]
     },
     "metadata": {},
     "output_type": "display_data"
    },
    {
     "name": "stdout",
     "output_type": "stream",
     "text": [
      "Take home predictions:\n",
      "\n",
      "2019 :  36.629079223325434\n",
      "2020 :  36.72087895760508\n",
      "2021 :  36.777690835821396\n",
      "2022 :  36.85795805095351\n",
      "2023 :  36.91060004529429\n",
      "2024 :  36.97423289657361\n",
      "2025 :  37.05760239549084\n"
     ]
    }
   ],
   "source": [
    "# Min\n",
    "min_rand_start = b30\n",
    "min_rand_target = min_target\n",
    "\n",
    "\n",
    "#----------------------------\n",
    "# Using numpy ...\n",
    "min_milestones = np.linspace(min_rand_start, min_rand_target, num=8)\n",
    "#print(min_milestones)\n",
    "\n",
    "\n",
    "#------------------------------------------------------------\n",
    "# Manual ...\n",
    "#min_mil_a = min_rand_start\n",
    "#min_mil_z = min_rand_target\n",
    "#min_mils = 8\n",
    "#min_step = (min_mil_z - min_mil_a) / (min_mils - 1)\n",
    "\n",
    "#min_milestones1 = [min_mil_a + min_step * i for i in range(min_mils)]\n",
    "\n",
    "#print(min_milestones1)\n",
    "\n",
    "#-------------------------------------------------------------\n",
    "\n",
    "min_predictions = []\n",
    "\n",
    "min_r = 0\n",
    "for i in range(gap):\n",
    "    min_preds = rand.uniform(min_milestones[min_r], min_milestones[min_r+1])\n",
    "    min_predictions.append(min_preds)\n",
    "    min_r += 1\n",
    "    \n",
    "#print(min_predictions)\n",
    "\n",
    "# Since the target year is already known, \n",
    "# we assume the last element of the random predictions as the target.\n",
    "# Therefore ...\n",
    "\n",
    "min_predictions[-1] = min_rand_target\n",
    "\n",
    "#print(min_predictions[-1])\n",
    "#print(min_rand_target)\n",
    "#print(min_predictions)\n",
    "\n",
    "print(\"\\nGraphical Illustration of the Predictions for Random Walk on Minimal Path from 2019 to Target(2025)\")\n",
    "pyplot.plot(min_predictions)\n",
    "pyplot.show()\n",
    "\n",
    "print(\"Take home predictions:\\n\")\n",
    "\n",
    "min_init_pred_year = 2019 \n",
    "for i in min_predictions:\n",
    "    print(min_init_pred_year, \": \", i)\n",
    "    min_init_pred_year += 1"
   ]
  },
  {
   "cell_type": "markdown",
   "metadata": {},
   "source": [
    "## Random walk with drift on Max Path"
   ]
  },
  {
   "cell_type": "code",
   "execution_count": 34,
   "metadata": {},
   "outputs": [
    {
     "name": "stdout",
     "output_type": "stream",
     "text": [
      "\n",
      "Graphical Illustration of the Predictions for Random Walk on maximal Path from 2019 to Target(2025)\n"
     ]
    },
    {
     "data": {
      "image/png": "[encoded data removed]",
      "text/plain": [
       "<matplotlib.figure.Figure at 0x23521d07a58>"
      ]
     },
     "metadata": {},
     "output_type": "display_data"
    },
    {
     "name": "stdout",
     "output_type": "stream",
     "text": [
      "Take home predictions:\n",
      "\n",
      "2019 :  36.686309290837166\n",
      "2020 :  39.75101213146701\n",
      "2021 :  41.85086701199786\n",
      "2022 :  43.32874780461045\n",
      "2023 :  46.15527797878285\n",
      "2024 :  48.012502293865246\n",
      "2025 :  51.41331527813602\n"
     ]
    }
   ],
   "source": [
    "# max\n",
    "max_rand_start = b30\n",
    "max_rand_target = max_target\n",
    "\n",
    "\n",
    "#----------------------------\n",
    "# Using numpy ...\n",
    "max_milestones = np.linspace(max_rand_start, max_rand_target, num=8)\n",
    "#print(max_milestones)\n",
    "\n",
    "\n",
    "#------------------------------------------------------------\n",
    "# Manual ...\n",
    "#max_mil_a = max_rand_start\n",
    "#max_mil_z = max_rand_target\n",
    "#max_mils = 8\n",
    "#max_step = (max_mil_z - max_mil_a) / (max_mils - 1)\n",
    "\n",
    "#max_milestones1 = [max_mil_a + max_step * i for i in range(max_mils)]\n",
    "\n",
    "#print(max_milestones1)\n",
    "\n",
    "#-------------------------------------------------------------\n",
    "\n",
    "max_predictions = []\n",
    "\n",
    "max_r = 0\n",
    "for i in range(gap):\n",
    "    max_preds = rand.uniform(max_milestones[max_r], max_milestones[max_r+1])\n",
    "    max_predictions.append(max_preds)\n",
    "    max_r += 1\n",
    "    \n",
    "#print(max_predictions)\n",
    "\n",
    "# Since the target year is already known, \n",
    "# we assume the last element of the random predictions as the target.\n",
    "# Therefore ...\n",
    "\n",
    "max_predictions[-1] = max_rand_target\n",
    "\n",
    "#print(max_predictions[-1])\n",
    "#print(max_rand_target)\n",
    "#print(max_predictions)\n",
    "\n",
    "print(\"\\nGraphical Illustration of the Predictions for Random Walk on maximal Path from 2019 to Target(2025)\")\n",
    "pyplot.plot(max_predictions)\n",
    "pyplot.show()\n",
    "\n",
    "print(\"Take home predictions:\\n\")\n",
    "\n",
    "max_init_pred_year = 2019 \n",
    "for i in max_predictions:\n",
    "    print(max_init_pred_year, \": \", i)\n",
    "    max_init_pred_year += 1"
   ]
  },
  {
   "cell_type": "markdown",
   "metadata": {},
   "source": [
    "## Random walk with drift on Mean Path"
   ]
  },
  {
   "cell_type": "code",
   "execution_count": 35,
   "metadata": {},
   "outputs": [
    {
     "name": "stdout",
     "output_type": "stream",
     "text": [
      "\n",
      "Graphical Illustration of the Predictions for Random Walk on Mean Path from 2019 to Target(2025)\n"
     ]
    },
    {
     "data": {
      "image/png": "[encoded data removed]",
      "text/plain": [
       "<matplotlib.figure.Figure at 0x23520a1eb70>"
      ]
     },
     "metadata": {},
     "output_type": "display_data"
    },
    {
     "name": "stdout",
     "output_type": "stream",
     "text": [
      "Take home predictions:\n",
      "\n",
      "2019 :  36.831498260902706\n",
      "2020 :  38.09827487580973\n",
      "2021 :  39.895542931930855\n",
      "2022 :  40.45578316137161\n",
      "2023 :  41.44026777643636\n",
      "2024 :  43.43925333496266\n",
      "2025 :  44.608668492428535\n"
     ]
    }
   ],
   "source": [
    "# mean\n",
    "mean_rand_start = b30\n",
    "mean_rand_target = mean_target\n",
    "\n",
    "\n",
    "#----------------------------\n",
    "# Using numpy ...\n",
    "mean_milestones = np.linspace(mean_rand_start, mean_rand_target, num=8)\n",
    "#print(mean_milestones)\n",
    "\n",
    "\n",
    "#------------------------------------------------------------\n",
    "# Manual ...\n",
    "#mean_mil_a = mean_rand_start\n",
    "#mean_mil_z = mean_rand_target\n",
    "#mean_mils = 8\n",
    "#mean_step = (mean_mil_z - mean_mil_a) / (mean_mils - 1)\n",
    "\n",
    "#mean_milestones1 = [mean_mil_a + mean_step * i for i in range(mean_mils)]\n",
    "\n",
    "#print(mean_milestones1)\n",
    "\n",
    "#-------------------------------------------------------------\n",
    "\n",
    "mean_predictions = []\n",
    "\n",
    "mean_r = 0\n",
    "for i in range(gap):\n",
    "    mean_preds = rand.uniform(mean_milestones[mean_r], mean_milestones[mean_r+1])\n",
    "    mean_predictions.append(mean_preds)\n",
    "    mean_r += 1\n",
    "    \n",
    "#print(mean_predictions)\n",
    "\n",
    "# Since the target year is already known, \n",
    "# we assume the last element of the random predictions as the target.\n",
    "# Therefore ...\n",
    "\n",
    "mean_predictions[-1] = mean_rand_target\n",
    "\n",
    "#print(mean_predictions[-1])\n",
    "#print(mean_rand_target)\n",
    "#print(mean_predictions)\n",
    "\n",
    "print(\"\\nGraphical Illustration of the Predictions for Random Walk on Mean Path from 2019 to Target(2025)\")\n",
    "pyplot.plot(mean_predictions)\n",
    "pyplot.show()\n",
    "\n",
    "print(\"Take home predictions:\\n\")\n",
    "\n",
    "mean_init_pred_year = 2019 \n",
    "for i in mean_predictions:\n",
    "    print(mean_init_pred_year, \": \", i)\n",
    "    mean_init_pred_year += 1"
   ]
  },
  {
   "cell_type": "markdown",
   "metadata": {},
   "source": [
    "## Hope you enjoyed this repository! \n",
    "> #### Check other repositories from me and fork them. \n",
    "> #### They might come in handy in your next project.  "
   ]
  },
  {
   "cell_type": "code",
   "execution_count": null,
   "metadata": {
    "collapsed": true
   },
   "outputs": [],
   "source": []
  }
 ],
 "metadata": {
  "kernelspec": {
   "display_name": "Python 3",
   "language": "python",
   "name": "python3"
  }
 },
 "nbformat": 4,
 "nbformat_minor": 2
}
